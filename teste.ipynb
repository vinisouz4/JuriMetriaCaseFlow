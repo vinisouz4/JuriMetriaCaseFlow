{
 "cells": [
  {
   "cell_type": "code",
   "execution_count": 2,
   "metadata": {},
   "outputs": [
    {
     "data": {
      "text/plain": [
       "Processo(numero_cnj='1000140-30.2025.5.02.0464', quantidade_movimentacoes=24, fontes_tribunais_estao_arquivadas=False, ano_inicio=2025, data_ultima_verificacao='2025-02-12T06:12:23+00:00', tempo_desde_ultima_verificacao='há 1 semana', data_ultima_movimentacao='2025-02-06', match_fontes=MatchFontes(tribunal=False, diario_oficial=False), titulo_polo_ativo='Paloma Chaves Moura', titulo_polo_passivo='Sendas Distribuidora S.A', data_inicio='2025-01-31', tipo_match=None, fontes=[FonteProcesso(id=2094, processo_fonte_id=787012938, descricao='TRT-2 - 1º grau', nome='Tribunal Regional do Trabalho da 2ª Região', sigla='TRT-2', tipo='TRIBUNAL', grau=1, grau_formatado='Primeiro Grau', data_inicio='2025-01-31', data_ultima_movimentacao='2025-02-06', fisico=None, sistema='PJE', quantidade_movimentacoes=21, quantidade_envolvidos=3, segredo_justica=False, arquivado=None, status_predito='ATIVO', tipos_envolvido_pesquisado=[], match_documento_por=None, url=None, caderno=None, data_ultima_verificacao='2025-02-12T06:12:23+00:00', tribunal=Tribunal(id=13, nome='Tribunal Regional do Trabalho da 2ª Região', sigla='TRT-2', categoria=None, estados=[]), capa=CapaProcessoTribunal(assunto_principal_normalizado=Assunto(id=6870, nome='Horas Extras', nome_com_pai='Duração do Trabalho > Horas Extras', path_completo='DIREITO DO TRABALHO > Direito Individual do Trabalho  > Duração do Trabalho > Horas Extras'), assuntos_normalizados=[Assunto(id=6865, nome='Duração do Trabalho', nome_com_pai='Direito Individual do Trabalho  > Duração do Trabalho', path_completo='DIREITO DO TRABALHO > Direito Individual do Trabalho  > Duração do Trabalho'), Assunto(id=6932, nome='Verbas Remuneratórias, Indenizatórias e Benefícios', nome_com_pai='Direito Individual do Trabalho  > Verbas Remuneratórias, Indenizatórias e Benefícios', path_completo='DIREITO DO TRABALHO > Direito Individual do Trabalho  > Verbas Remuneratórias, Indenizatórias e Benefícios'), Assunto(id=6976, nome='Adicional de Insalubridade', nome_com_pai='Adicional > Adicional de Insalubridade', path_completo='DIREITO DO TRABALHO > Direito Individual do Trabalho  > Verbas Remuneratórias, Indenizatórias e Benefícios > Adicional > Adicional de Insalubridade'), Assunto(id=6978, nome='Adicional de Periculosidade', nome_com_pai='Adicional > Adicional de Periculosidade', path_completo='DIREITO DO TRABALHO > Direito Individual do Trabalho  > Verbas Remuneratórias, Indenizatórias e Benefícios > Adicional > Adicional de Periculosidade')], classe='Ação Trabalhista - Rito Ordinário', assunto='Horas Extras', area='Trabalhista', orgao_julgador='4ª Vara do Trabalho de São Bernardo do Campo', data_distribuicao='2025-01-31', data_arquivamento=None, valor_causa=None, informacoes_complementares=[]), envolvidos=[Envolvido(nome='Paloma Chaves Moura', tipo='AUTOR', tipo_normalizado='Autor', tipo_pessoa='FISICA', quantidade_processos=3, polo='ATIVO', prefixo=None, sufixo=None, cpf='45690291838', cnpj=None, oabs=[], advogados=[Envolvido(nome='Michel Petrozziello', tipo='Advogado', tipo_normalizado='Advogado', tipo_pessoa='FISICA', quantidade_processos=1674, polo='ADVOGADO', prefixo=None, sufixo=None, cpf='33557421805', cnpj=None, oabs=[Oab(numero=298435, uf='SP', tipo='ADVOGADO')], advogados=[])]), Envolvido(nome='Sendas Distribuidora S.A', tipo='Réu', tipo_normalizado='Réu', tipo_pessoa='JURIDICA', quantidade_processos=70004, polo='PASSIVO', prefixo=None, sufixo=None, cpf=None, cnpj='06057223000171', oabs=[], advogados=[])]), FonteProcesso(id=22050, processo_fonte_id=781867379, descricao='Diário Eletrônico da Justiça do Trabalho (TRT-2)', nome='Diário Eletrônico da Justiça do Trabalho (TRT-2)', sigla='TRT-2', tipo='DIARIO_OFICIAL', grau=1, grau_formatado='Primeiro Grau', data_inicio='2025-02-03', data_ultima_movimentacao='2025-02-04', fisico=None, sistema='Site', quantidade_movimentacoes=3, quantidade_envolvidos=3, segredo_justica=None, arquivado=None, status_predito=None, tipos_envolvido_pesquisado=[], match_documento_por=None, url=None, caderno=None, data_ultima_verificacao='2025-02-04T03:06:00+00:00', tribunal=Tribunal(id=13, nome='Tribunal Regional do Trabalho da 2ª Região', sigla='TRT-2', categoria=None, estados=[]), capa=None, envolvidos=[Envolvido(nome='Michel Petrozziello', tipo='Advogado', tipo_normalizado='Advogado', tipo_pessoa='FISICA', quantidade_processos=1674, polo='ADVOGADO', prefixo=None, sufixo=None, cpf='33557421805', cnpj=None, oabs=[Oab(numero=298435, uf='SP', tipo='ADVOGADO')], advogados=[]), Envolvido(nome='Sendas Distribuidora S.A', tipo='Polo Passivo', tipo_normalizado='Réu', tipo_pessoa='JURIDICA', quantidade_processos=70004, polo='PASSIVO', prefixo=None, sufixo=None, cpf=None, cnpj='06057223000171', oabs=[], advogados=[]), Envolvido(nome='Paloma Chaves Moura', tipo='Polo Ativo', tipo_normalizado='Autor', tipo_pessoa='FISICA', quantidade_processos=3, polo='ATIVO', prefixo=None, sufixo=None, cpf='45690291838', cnpj=None, oabs=[], advogados=[])])])"
      ]
     },
     "execution_count": 2,
     "metadata": {},
     "output_type": "execute_result"
    }
   ],
   "source": [
    "import escavador\n",
    "from escavador.v2 import Processo\n",
    "\n",
    "from src.adapter.core.config import Settings\n",
    "\n",
    "sett = Settings()\n",
    "\n",
    "escavador.config(sett.ESCAVADOR_KEY)\n",
    "\n",
    "response = Processo.por_numero(\"1000140-30.2025.5.02.0464\")\n",
    "response"
   ]
  },
  {
   "cell_type": "code",
   "execution_count": 7,
   "metadata": {},
   "outputs": [
    {
     "data": {
      "text/plain": [
       "[Envolvido(nome='Paloma Chaves Moura', tipo='AUTOR', tipo_normalizado='Autor', tipo_pessoa='FISICA', quantidade_processos=3, polo='ATIVO', prefixo=None, sufixo=None, cpf='45690291838', cnpj=None, oabs=[], advogados=[Envolvido(nome='Michel Petrozziello', tipo='Advogado', tipo_normalizado='Advogado', tipo_pessoa='FISICA', quantidade_processos=1674, polo='ADVOGADO', prefixo=None, sufixo=None, cpf='33557421805', cnpj=None, oabs=[Oab(numero=298435, uf='SP', tipo='ADVOGADO')], advogados=[])]),\n",
       " Envolvido(nome='Sendas Distribuidora S.A', tipo='Réu', tipo_normalizado='Réu', tipo_pessoa='JURIDICA', quantidade_processos=70004, polo='PASSIVO', prefixo=None, sufixo=None, cpf=None, cnpj='06057223000171', oabs=[], advogados=[])]"
      ]
     },
     "execution_count": 7,
     "metadata": {},
     "output_type": "execute_result"
    }
   ],
   "source": [
    "response.fontes[0].envolvidos"
   ]
  },
  {
   "cell_type": "code",
   "execution_count": 9,
   "metadata": {},
   "outputs": [
    {
     "data": {
      "text/plain": [
       "[Envolvido(nome='Michel Petrozziello', tipo='Advogado', tipo_normalizado='Advogado', tipo_pessoa='FISICA', quantidade_processos=1674, polo='ADVOGADO', prefixo=None, sufixo=None, cpf='33557421805', cnpj=None, oabs=[Oab(numero=298435, uf='SP', tipo='ADVOGADO')], advogados=[]),\n",
       " Envolvido(nome='Sendas Distribuidora S.A', tipo='Polo Passivo', tipo_normalizado='Réu', tipo_pessoa='JURIDICA', quantidade_processos=70004, polo='PASSIVO', prefixo=None, sufixo=None, cpf=None, cnpj='06057223000171', oabs=[], advogados=[]),\n",
       " Envolvido(nome='Paloma Chaves Moura', tipo='Polo Ativo', tipo_normalizado='Autor', tipo_pessoa='FISICA', quantidade_processos=3, polo='ATIVO', prefixo=None, sufixo=None, cpf='45690291838', cnpj=None, oabs=[], advogados=[])]"
      ]
     },
     "execution_count": 9,
     "metadata": {},
     "output_type": "execute_result"
    }
   ],
   "source": [
    "response.fontes[1].envolvidos"
   ]
  },
  {
   "cell_type": "code",
   "execution_count": 13,
   "metadata": {},
   "outputs": [
    {
     "name": "stdout",
     "output_type": "stream",
     "text": [
      "Nome: Michel Petrozziello - Tipo: Advogado - CPF: 33557421805 - CNPJ: None\n",
      "Nome: Sendas Distribuidora S.A - Tipo: Polo Passivo - CPF: None - CNPJ: 06057223000171\n",
      "Nome: Paloma Chaves Moura - Tipo: Polo Ativo - CPF: 45690291838 - CNPJ: None\n"
     ]
    }
   ],
   "source": [
    "for i in range(0,len(response.fontes[1].envolvidos)):\n",
    "    print(f\"Nome: {response.fontes[1].envolvidos[i].nome} - Tipo: {response.fontes[1].envolvidos[i].tipo} - CPF: {response.fontes[1].envolvidos[i].cpf} - CNPJ: {response.fontes[1].envolvidos[i].cnpj}\")"
   ]
  },
  {
   "cell_type": "code",
   "execution_count": null,
   "metadata": {},
   "outputs": [],
   "source": []
  }
 ],
 "metadata": {
  "kernelspec": {
   "display_name": "venv",
   "language": "python",
   "name": "python3"
  },
  "language_info": {
   "codemirror_mode": {
    "name": "ipython",
    "version": 3
   },
   "file_extension": ".py",
   "mimetype": "text/x-python",
   "name": "python",
   "nbconvert_exporter": "python",
   "pygments_lexer": "ipython3",
   "version": "3.11.9"
  }
 },
 "nbformat": 4,
 "nbformat_minor": 2
}
